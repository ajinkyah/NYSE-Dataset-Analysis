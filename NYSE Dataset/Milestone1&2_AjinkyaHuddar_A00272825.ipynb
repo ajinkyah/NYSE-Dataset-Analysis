{
 "cells": [
  {
   "cell_type": "markdown",
   "id": "bbf3c462-97e0-4e65-b12e-107072fcac32",
   "metadata": {},
   "source": [
    "# Milestone 1 - Project Proposal"
   ]
  },
  {
   "cell_type": "markdown",
   "id": "a05033bc-e4e6-42a5-a1ac-6798e73d0c3a",
   "metadata": {},
   "source": [
    "Personal Objective:\n",
    "\n",
    "    Who: I am conducting this project to improve my skills in data analysis using Python and Pandas.\n",
    "    What: I will analyze the NYSE dataset to extract meaningful insights regarding stock prices and company fundamentals.\n",
    "    Why: My goal is to understand the patterns in stock market data and the impact of fundamental metrics on stock prices.\n",
    "    How: I will achieve this by performing data cleaning, analysis, and visualization using Pandas and other Python libraries.\n",
    "\n",
    "Intended Outcomes:\n",
    "\n",
    "    I aim to develop a clear understanding of how fundamental and technical analysis can be applied using historical stock data.\n",
    "    I plan to create a set of visualizations and statistical analyses that illustrate key findings.\n",
    "    My goal is to generate insights that can potentially inform investment decisions or automated trading strategies.\n",
    "\n",
    "Description of the Needs of the Intended Audience:\n",
    "\n",
    "    Audience: The primary audience for my project includes data analysts, finance students, and stock market enthusiasts.\n",
    "    Needs: My audience needs clear, actionable insights derived from the data, which can help in understanding market trends and making informed decisions.\n",
    "    Format: I will present the results in a user-friendly format, including charts, graphs, and a written report explaining the findings.\n",
    "\n",
    "Foreseeable Challenges:\n",
    "\n",
    "    I anticipate potential data quality issues, such as missing or inconsistent entries.\n",
    "    Merging different datasets (prices, fundamentals, securities) might be complex.\n",
    "    Handling stock splits and other corporate actions in the data could be challenging.\n",
    "    Interpreting the results and ensuring they are statistically significant and practically meaningful might be difficult."
   ]
  },
  {
   "cell_type": "markdown",
   "id": "5c3e7a44-9024-4650-aaa5-dc5edc491a48",
   "metadata": {},
   "source": [
    "# Milestone 2 - Data Import and Preparation"
   ]
  },
  {
   "cell_type": "markdown",
   "id": "61f65479-c8c5-42ad-82f4-456c5581aafa",
   "metadata": {
    "tags": []
   },
   "source": [
    "Description of the Dataset:\n",
    "\n",
    "    Source: NYSE dataset on Kaggle - https://www.kaggle.com/datasets/dgawlik/nyse/data\n",
    "    \n",
    "    Files:\n",
    "        prices.csv: Daily stock prices from 2010 to 2016.\n",
    "        prices-split-adjusted.csv: Stock prices adjusted for splits.\n",
    "        securities.csv: Company descriptions and sector information.\n",
    "        fundamentals.csv: Financial metrics from SEC 10K filings (2012-2016).\n",
    "    Content: The dataset includes raw and adjusted stock prices, company descriptions, and fundamental financial metrics.\n",
    "\n",
    "Foreseeable Challenges:\n",
    "\n",
    "    Importing Issues: Large file sizes might lead to memory errors or slow processing times. Ensuring all files are correctly loaded into Python.\n",
    "    Datafile Restrictions: Understanding the structure and format of each file, especially handling different date ranges and missing values.\n",
    "    Data Cleaning: Identifying and correcting errors, dealing with stock splits, and ensuring consistency across datasets.\n",
    "    Analysis Preparation: Merging datasets accurately, creating new metrics, and setting up the data for meaningful analysis."
   ]
  },
  {
   "cell_type": "code",
   "execution_count": 30,
   "id": "863c1ce1-8372-4d63-a5eb-c88155b77fbc",
   "metadata": {
    "tags": []
   },
   "outputs": [],
   "source": [
    "# Importing data\n",
    "\n",
    "import pandas as pd\n",
    "\n",
    "prices = pd.read_csv('prices.csv')\n",
    "prices_adjusted = pd.read_csv('prices-split-adjusted.csv')\n",
    "securities = pd.read_csv('securities.csv')\n",
    "fundamentals = pd.read_csv('fundamentals.csv')"
   ]
  }
 ],
 "metadata": {
  "kernelspec": {
   "display_name": "Python 3 (ipykernel)",
   "language": "python",
   "name": "python3"
  },
  "language_info": {
   "codemirror_mode": {
    "name": "ipython",
    "version": 3
   },
   "file_extension": ".py",
   "mimetype": "text/x-python",
   "name": "python",
   "nbconvert_exporter": "python",
   "pygments_lexer": "ipython3",
   "version": "3.11.4"
  }
 },
 "nbformat": 4,
 "nbformat_minor": 5
}
